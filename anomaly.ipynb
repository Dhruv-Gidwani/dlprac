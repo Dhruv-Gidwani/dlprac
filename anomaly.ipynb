{
 "cells": [
  {
   "cell_type": "code",
   "execution_count": 3,
   "id": "f4e0b3ed-d05f-465f-97c3-83837b097a4f",
   "metadata": {},
   "outputs": [
    {
     "name": "stdout",
     "output_type": "stream",
     "text": [
      "Any nulls in the dataset: False\n",
      "Class distribution:\n",
      " Class\n",
      "0    284315\n",
      "1       492\n",
      "Name: count, dtype: int64\n"
     ]
    }
   ],
   "source": [
    "#Load and Explore the Data\n",
    "import pandas as pd\n",
    "\n",
    "# Load the dataset\n",
    "dataset = pd.read_csv(\"creditcard.csv\")\n",
    "\n",
    "# Check for null values and class distribution\n",
    "print(\"Any nulls in the dataset:\", dataset.isnull().values.any())\n",
    "print(\"Class distribution:\\n\", dataset['Class'].value_counts())"
   ]
  },
  {
   "cell_type": "code",
   "execution_count": 4,
   "id": "274c4c0c-022e-443f-b694-5aadcff79272",
   "metadata": {},
   "outputs": [],
   "source": [
    "#Preprocess the Data\n",
    "from sklearn.model_selection import train_test_split\n",
    "from sklearn.preprocessing import StandardScaler\n",
    "\n",
    "# Separate features and labels\n",
    "X = dataset.drop(columns=['Class'])\n",
    "y = dataset['Class']\n",
    "\n",
    "# Normalize the feature data\n",
    "scaler = StandardScaler()\n",
    "X_scaled = scaler.fit_transform(X)\n",
    "\n",
    "# Split into training (only normal transactions) and testing sets\n",
    "X_train = X_scaled[y == 0]\n",
    "X_test, y_test = X_scaled, y"
   ]
  },
  {
   "cell_type": "code",
   "execution_count": 5,
   "id": "bfe52caa-eac1-4bff-9410-b1bb4ac47b7b",
   "metadata": {},
   "outputs": [],
   "source": [
    "# Define the Autoencoder Model\n",
    "import tensorflow as tf\n",
    "from tensorflow.keras.models import Model\n",
    "from tensorflow.keras.layers import Input, Dense\n",
    "\n",
    "# Define a more complex Autoencoder structure\n",
    "input_dim = X_train.shape[1]\n",
    "input_layer = Input(shape=(input_dim,))\n",
    "encoder = Dense(64, activation=\"relu\")(input_layer)\n",
    "encoder = Dense(32, activation=\"relu\")(encoder)\n",
    "encoder = Dense(16, activation=\"relu\")(encoder)  # Additional layer\n",
    "decoder = Dense(32, activation=\"relu\")(encoder)\n",
    "decoder = Dense(64, activation=\"relu\")(decoder)\n",
    "decoder = Dense(input_dim, activation=\"sigmoid\")(decoder)\n",
    "\n",
    "autoencoder = Model(inputs=input_layer, outputs=decoder)\n",
    "autoencoder.compile(optimizer='adam', loss='mean_squared_error')"
   ]
  },
  {
   "cell_type": "code",
   "execution_count": 6,
   "id": "1733684b-0aa0-40e6-a9ba-404e963cd91c",
   "metadata": {},
   "outputs": [
    {
     "name": "stdout",
     "output_type": "stream",
     "text": [
      "Epoch 1/50\n",
      "\u001b[1m889/889\u001b[0m \u001b[32m━━━━━━━━━━━━━━━━━━━━\u001b[0m\u001b[37m\u001b[0m \u001b[1m6s\u001b[0m 4ms/step - loss: 0.9048 - val_loss: 0.7362\n",
      "Epoch 2/50\n",
      "\u001b[1m889/889\u001b[0m \u001b[32m━━━━━━━━━━━━━━━━━━━━\u001b[0m\u001b[37m\u001b[0m \u001b[1m4s\u001b[0m 4ms/step - loss: 0.7387 - val_loss: 0.7004\n",
      "Epoch 3/50\n",
      "\u001b[1m889/889\u001b[0m \u001b[32m━━━━━━━━━━━━━━━━━━━━\u001b[0m\u001b[37m\u001b[0m \u001b[1m3s\u001b[0m 3ms/step - loss: 0.7212 - val_loss: 0.6909\n",
      "Epoch 4/50\n",
      "\u001b[1m889/889\u001b[0m \u001b[32m━━━━━━━━━━━━━━━━━━━━\u001b[0m\u001b[37m\u001b[0m \u001b[1m3s\u001b[0m 3ms/step - loss: 0.7036 - val_loss: 0.6850\n",
      "Epoch 5/50\n",
      "\u001b[1m889/889\u001b[0m \u001b[32m━━━━━━━━━━━━━━━━━━━━\u001b[0m\u001b[37m\u001b[0m \u001b[1m3s\u001b[0m 3ms/step - loss: 0.7051 - val_loss: 0.6824\n",
      "Epoch 6/50\n",
      "\u001b[1m889/889\u001b[0m \u001b[32m━━━━━━━━━━━━━━━━━━━━\u001b[0m\u001b[37m\u001b[0m \u001b[1m3s\u001b[0m 3ms/step - loss: 0.6932 - val_loss: 0.6777\n",
      "Epoch 7/50\n",
      "\u001b[1m889/889\u001b[0m \u001b[32m━━━━━━━━━━━━━━━━━━━━\u001b[0m\u001b[37m\u001b[0m \u001b[1m3s\u001b[0m 4ms/step - loss: 0.6783 - val_loss: 0.6749\n",
      "Epoch 8/50\n",
      "\u001b[1m889/889\u001b[0m \u001b[32m━━━━━━━━━━━━━━━━━━━━\u001b[0m\u001b[37m\u001b[0m \u001b[1m3s\u001b[0m 4ms/step - loss: 0.6918 - val_loss: 0.6724\n",
      "Epoch 9/50\n",
      "\u001b[1m889/889\u001b[0m \u001b[32m━━━━━━━━━━━━━━━━━━━━\u001b[0m\u001b[37m\u001b[0m \u001b[1m3s\u001b[0m 4ms/step - loss: 0.6936 - val_loss: 0.6643\n",
      "Epoch 10/50\n",
      "\u001b[1m889/889\u001b[0m \u001b[32m━━━━━━━━━━━━━━━━━━━━\u001b[0m\u001b[37m\u001b[0m \u001b[1m3s\u001b[0m 3ms/step - loss: 0.6798 - val_loss: 0.6622\n",
      "Epoch 11/50\n",
      "\u001b[1m889/889\u001b[0m \u001b[32m━━━━━━━━━━━━━━━━━━━━\u001b[0m\u001b[37m\u001b[0m \u001b[1m3s\u001b[0m 3ms/step - loss: 0.6854 - val_loss: 0.6628\n",
      "Epoch 12/50\n",
      "\u001b[1m889/889\u001b[0m \u001b[32m━━━━━━━━━━━━━━━━━━━━\u001b[0m\u001b[37m\u001b[0m \u001b[1m3s\u001b[0m 3ms/step - loss: 0.6800 - val_loss: 0.6596\n",
      "Epoch 13/50\n",
      "\u001b[1m889/889\u001b[0m \u001b[32m━━━━━━━━━━━━━━━━━━━━\u001b[0m\u001b[37m\u001b[0m \u001b[1m3s\u001b[0m 3ms/step - loss: 0.6908 - val_loss: 0.6592\n",
      "Epoch 14/50\n",
      "\u001b[1m889/889\u001b[0m \u001b[32m━━━━━━━━━━━━━━━━━━━━\u001b[0m\u001b[37m\u001b[0m \u001b[1m3s\u001b[0m 4ms/step - loss: 0.6827 - val_loss: 0.6583\n",
      "Epoch 15/50\n",
      "\u001b[1m889/889\u001b[0m \u001b[32m━━━━━━━━━━━━━━━━━━━━\u001b[0m\u001b[37m\u001b[0m \u001b[1m3s\u001b[0m 3ms/step - loss: 0.6743 - val_loss: 0.6576\n",
      "Epoch 16/50\n",
      "\u001b[1m889/889\u001b[0m \u001b[32m━━━━━━━━━━━━━━━━━━━━\u001b[0m\u001b[37m\u001b[0m \u001b[1m3s\u001b[0m 3ms/step - loss: 0.6853 - val_loss: 0.6567\n",
      "Epoch 17/50\n",
      "\u001b[1m889/889\u001b[0m \u001b[32m━━━━━━━━━━━━━━━━━━━━\u001b[0m\u001b[37m\u001b[0m \u001b[1m3s\u001b[0m 4ms/step - loss: 0.6773 - val_loss: 0.6573\n",
      "Epoch 18/50\n",
      "\u001b[1m889/889\u001b[0m \u001b[32m━━━━━━━━━━━━━━━━━━━━\u001b[0m\u001b[37m\u001b[0m \u001b[1m3s\u001b[0m 3ms/step - loss: 0.6713 - val_loss: 0.6545\n",
      "Epoch 19/50\n",
      "\u001b[1m889/889\u001b[0m \u001b[32m━━━━━━━━━━━━━━━━━━━━\u001b[0m\u001b[37m\u001b[0m \u001b[1m3s\u001b[0m 4ms/step - loss: 0.6759 - val_loss: 0.6544\n",
      "Epoch 20/50\n",
      "\u001b[1m889/889\u001b[0m \u001b[32m━━━━━━━━━━━━━━━━━━━━\u001b[0m\u001b[37m\u001b[0m \u001b[1m3s\u001b[0m 3ms/step - loss: 0.6752 - val_loss: 0.6555\n",
      "Epoch 21/50\n",
      "\u001b[1m889/889\u001b[0m \u001b[32m━━━━━━━━━━━━━━━━━━━━\u001b[0m\u001b[37m\u001b[0m \u001b[1m3s\u001b[0m 3ms/step - loss: 0.6857 - val_loss: 0.6536\n",
      "Epoch 22/50\n",
      "\u001b[1m889/889\u001b[0m \u001b[32m━━━━━━━━━━━━━━━━━━━━\u001b[0m\u001b[37m\u001b[0m \u001b[1m3s\u001b[0m 3ms/step - loss: 0.6712 - val_loss: 0.6537\n",
      "Epoch 23/50\n",
      "\u001b[1m889/889\u001b[0m \u001b[32m━━━━━━━━━━━━━━━━━━━━\u001b[0m\u001b[37m\u001b[0m \u001b[1m3s\u001b[0m 3ms/step - loss: 0.6671 - val_loss: 0.6543\n",
      "Epoch 24/50\n",
      "\u001b[1m889/889\u001b[0m \u001b[32m━━━━━━━━━━━━━━━━━━━━\u001b[0m\u001b[37m\u001b[0m \u001b[1m3s\u001b[0m 4ms/step - loss: 0.6782 - val_loss: 0.6531\n",
      "Epoch 25/50\n",
      "\u001b[1m889/889\u001b[0m \u001b[32m━━━━━━━━━━━━━━━━━━━━\u001b[0m\u001b[37m\u001b[0m \u001b[1m3s\u001b[0m 4ms/step - loss: 0.6818 - val_loss: 0.6530\n",
      "Epoch 26/50\n",
      "\u001b[1m889/889\u001b[0m \u001b[32m━━━━━━━━━━━━━━━━━━━━\u001b[0m\u001b[37m\u001b[0m \u001b[1m3s\u001b[0m 3ms/step - loss: 0.6753 - val_loss: 0.6531\n",
      "Epoch 27/50\n",
      "\u001b[1m889/889\u001b[0m \u001b[32m━━━━━━━━━━━━━━━━━━━━\u001b[0m\u001b[37m\u001b[0m \u001b[1m3s\u001b[0m 4ms/step - loss: 0.6881 - val_loss: 0.6542\n",
      "Epoch 28/50\n",
      "\u001b[1m889/889\u001b[0m \u001b[32m━━━━━━━━━━━━━━━━━━━━\u001b[0m\u001b[37m\u001b[0m \u001b[1m3s\u001b[0m 3ms/step - loss: 0.6770 - val_loss: 0.6524\n",
      "Epoch 29/50\n",
      "\u001b[1m889/889\u001b[0m \u001b[32m━━━━━━━━━━━━━━━━━━━━\u001b[0m\u001b[37m\u001b[0m \u001b[1m3s\u001b[0m 4ms/step - loss: 0.6674 - val_loss: 0.6526\n",
      "Epoch 30/50\n",
      "\u001b[1m889/889\u001b[0m \u001b[32m━━━━━━━━━━━━━━━━━━━━\u001b[0m\u001b[37m\u001b[0m \u001b[1m4s\u001b[0m 4ms/step - loss: 0.6705 - val_loss: 0.6524\n",
      "Epoch 31/50\n",
      "\u001b[1m889/889\u001b[0m \u001b[32m━━━━━━━━━━━━━━━━━━━━\u001b[0m\u001b[37m\u001b[0m \u001b[1m3s\u001b[0m 3ms/step - loss: 0.6610 - val_loss: 0.6525\n",
      "Epoch 32/50\n",
      "\u001b[1m889/889\u001b[0m \u001b[32m━━━━━━━━━━━━━━━━━━━━\u001b[0m\u001b[37m\u001b[0m \u001b[1m3s\u001b[0m 3ms/step - loss: 0.6746 - val_loss: 0.6521\n",
      "Epoch 33/50\n",
      "\u001b[1m889/889\u001b[0m \u001b[32m━━━━━━━━━━━━━━━━━━━━\u001b[0m\u001b[37m\u001b[0m \u001b[1m3s\u001b[0m 3ms/step - loss: 0.6715 - val_loss: 0.6522\n",
      "Epoch 34/50\n",
      "\u001b[1m889/889\u001b[0m \u001b[32m━━━━━━━━━━━━━━━━━━━━\u001b[0m\u001b[37m\u001b[0m \u001b[1m3s\u001b[0m 3ms/step - loss: 0.6674 - val_loss: 0.6519\n",
      "Epoch 35/50\n",
      "\u001b[1m889/889\u001b[0m \u001b[32m━━━━━━━━━━━━━━━━━━━━\u001b[0m\u001b[37m\u001b[0m \u001b[1m3s\u001b[0m 4ms/step - loss: 0.6736 - val_loss: 0.6518\n",
      "Epoch 36/50\n",
      "\u001b[1m889/889\u001b[0m \u001b[32m━━━━━━━━━━━━━━━━━━━━\u001b[0m\u001b[37m\u001b[0m \u001b[1m3s\u001b[0m 3ms/step - loss: 0.6688 - val_loss: 0.6470\n",
      "Epoch 37/50\n",
      "\u001b[1m889/889\u001b[0m \u001b[32m━━━━━━━━━━━━━━━━━━━━\u001b[0m\u001b[37m\u001b[0m \u001b[1m3s\u001b[0m 3ms/step - loss: 0.6671 - val_loss: 0.6417\n",
      "Epoch 38/50\n",
      "\u001b[1m889/889\u001b[0m \u001b[32m━━━━━━━━━━━━━━━━━━━━\u001b[0m\u001b[37m\u001b[0m \u001b[1m3s\u001b[0m 4ms/step - loss: 0.6639 - val_loss: 0.6420\n",
      "Epoch 39/50\n",
      "\u001b[1m889/889\u001b[0m \u001b[32m━━━━━━━━━━━━━━━━━━━━\u001b[0m\u001b[37m\u001b[0m \u001b[1m3s\u001b[0m 3ms/step - loss: 0.6581 - val_loss: 0.6419\n",
      "Epoch 40/50\n",
      "\u001b[1m889/889\u001b[0m \u001b[32m━━━━━━━━━━━━━━━━━━━━\u001b[0m\u001b[37m\u001b[0m \u001b[1m3s\u001b[0m 3ms/step - loss: 0.6667 - val_loss: 0.6413\n",
      "Epoch 41/50\n",
      "\u001b[1m889/889\u001b[0m \u001b[32m━━━━━━━━━━━━━━━━━━━━\u001b[0m\u001b[37m\u001b[0m \u001b[1m3s\u001b[0m 4ms/step - loss: 0.6609 - val_loss: 0.6415\n",
      "Epoch 42/50\n",
      "\u001b[1m889/889\u001b[0m \u001b[32m━━━━━━━━━━━━━━━━━━━━\u001b[0m\u001b[37m\u001b[0m \u001b[1m3s\u001b[0m 3ms/step - loss: 0.6627 - val_loss: 0.6408\n",
      "Epoch 43/50\n",
      "\u001b[1m889/889\u001b[0m \u001b[32m━━━━━━━━━━━━━━━━━━━━\u001b[0m\u001b[37m\u001b[0m \u001b[1m3s\u001b[0m 3ms/step - loss: 0.6715 - val_loss: 0.6410\n",
      "Epoch 44/50\n",
      "\u001b[1m889/889\u001b[0m \u001b[32m━━━━━━━━━━━━━━━━━━━━\u001b[0m\u001b[37m\u001b[0m \u001b[1m3s\u001b[0m 3ms/step - loss: 0.6662 - val_loss: 0.6423\n",
      "Epoch 45/50\n",
      "\u001b[1m889/889\u001b[0m \u001b[32m━━━━━━━━━━━━━━━━━━━━\u001b[0m\u001b[37m\u001b[0m \u001b[1m3s\u001b[0m 3ms/step - loss: 0.6518 - val_loss: 0.6411\n",
      "Epoch 46/50\n",
      "\u001b[1m889/889\u001b[0m \u001b[32m━━━━━━━━━━━━━━━━━━━━\u001b[0m\u001b[37m\u001b[0m \u001b[1m3s\u001b[0m 3ms/step - loss: 0.6578 - val_loss: 0.6411\n",
      "Epoch 47/50\n",
      "\u001b[1m889/889\u001b[0m \u001b[32m━━━━━━━━━━━━━━━━━━━━\u001b[0m\u001b[37m\u001b[0m \u001b[1m3s\u001b[0m 3ms/step - loss: 0.6570 - val_loss: 0.6406\n",
      "Epoch 48/50\n",
      "\u001b[1m889/889\u001b[0m \u001b[32m━━━━━━━━━━━━━━━━━━━━\u001b[0m\u001b[37m\u001b[0m \u001b[1m3s\u001b[0m 4ms/step - loss: 0.6576 - val_loss: 0.6404\n",
      "Epoch 49/50\n",
      "\u001b[1m889/889\u001b[0m \u001b[32m━━━━━━━━━━━━━━━━━━━━\u001b[0m\u001b[37m\u001b[0m \u001b[1m3s\u001b[0m 3ms/step - loss: 0.6613 - val_loss: 0.6404\n",
      "Epoch 50/50\n",
      "\u001b[1m889/889\u001b[0m \u001b[32m━━━━━━━━━━━━━━━━━━━━\u001b[0m\u001b[37m\u001b[0m \u001b[1m3s\u001b[0m 4ms/step - loss: 0.6593 - val_loss: 0.6402\n"
     ]
    }
   ],
   "source": [
    "#Train the Model\n",
    "# Train the autoencoder on normal transactions\n",
    "history = autoencoder.fit(X_train, X_train,\n",
    "                          epochs=50,\n",
    "                          batch_size=256,\n",
    "                          shuffle=True,\n",
    "                          validation_split=0.2,\n",
    "                          verbose=1)"
   ]
  },
  {
   "cell_type": "code",
   "execution_count": 7,
   "id": "71786757-860f-49a3-93c9-da7c50ce32d0",
   "metadata": {},
   "outputs": [
    {
     "name": "stdout",
     "output_type": "stream",
     "text": [
      "\u001b[1m8901/8901\u001b[0m \u001b[32m━━━━━━━━━━━━━━━━━━━━\u001b[0m\u001b[37m\u001b[0m \u001b[1m19s\u001b[0m 2ms/step\n"
     ]
    }
   ],
   "source": [
    "# Calculate Reconstruction Errors\n",
    "import numpy as np\n",
    "\n",
    "# Predict and calculate reconstruction error\n",
    "reconstructions = autoencoder.predict(X_test)\n",
    "\n",
    "# Calculate the mean squared error manually\n",
    "mse = np.mean(np.power(X_test - reconstructions, 2), axis=1)\n",
    "\n",
    "# Create a DataFrame to store the reconstruction errors and true classes\n",
    "error_df = pd.DataFrame({'Reconstruction_error': mse, 'True_class': y_test})"
   ]
  },
  {
   "cell_type": "code",
   "execution_count": 9,
   "id": "54784d42-a535-4df5-bea4-a462ef1e1a68",
   "metadata": {},
   "outputs": [
    {
     "data": {
      "image/png": "[encoded data removed]",
      "text/plain": [
       "<Figure size 800x600 with 1 Axes>"
      ]
     },
     "metadata": {},
     "output_type": "display_data"
    }
   ],
   "source": [
    "from sklearn.metrics import precision_recall_curve\n",
    "import matplotlib.pyplot as plt\n",
    "# Calculate precision-recall pairs for different thresholds\n",
    "precision, recall, thresholds = precision_recall_curve(error_df['True_class'], error_df['Reconstruction_error'])\n",
    "\n",
    "# Plot Precision-Recall curve\n",
    "plt.figure(figsize=(8, 6))\n",
    "plt.plot(recall, precision, marker='.')\n",
    "plt.xlabel('Recall')\n",
    "plt.ylabel('Precision')\n",
    "plt.title('Precision-Recall Curve')\n",
    "plt.show()\n"
   ]
  },
  {
   "cell_type": "code",
   "execution_count": 10,
   "id": "f3f38f33-fdec-4da4-9856-902a26047794",
   "metadata": {},
   "outputs": [
    {
     "name": "stdout",
     "output_type": "stream",
     "text": [
      "Index(['Reconstruction_error', 'True_class'], dtype='object')\n"
     ]
    }
   ],
   "source": [
    "print(error_df.columns)"
   ]
  },
  {
   "cell_type": "code",
   "execution_count": 21,
   "id": "47047fe2-3577-4b84-a2f2-f1b2d7146106",
   "metadata": {},
   "outputs": [
    {
     "name": "stdout",
     "output_type": "stream",
     "text": [
      "Accuracy: 0.9981\n",
      "Precision: 0.4251\n",
      "Recall: 0.2134\n"
     ]
    }
   ],
   "source": [
    "# Set a Threshold and Detect Anomalies\n",
    "from sklearn.metrics import accuracy_score, precision_score, recall_score\n",
    "\n",
    "# Define a threshold for classifying as anomaly (fraud) or normal\n",
    "threshold = 50  # adjust based on your data distribution and needs\n",
    "\n",
    "# Generate predictions: 1 if the reconstruction error > threshold, else 0\n",
    "error_df['predicted_class'] = [1 if e > threshold else 0 for e in error_df['Reconstruction_error'].values]\n",
    "\n",
    "# Calculate the metrics\n",
    "accuracy = accuracy_score(error_df['True_class'], error_df['predicted_class'])\n",
    "precision = precision_score(error_df['True_class'], error_df['predicted_class'])\n",
    "recall = recall_score(error_df['True_class'], error_df['predicted_class'])\n",
    "\n",
    "# Print the results\n",
    "print(f\"Accuracy: {accuracy:.4f}\")\n",
    "print(f\"Precision: {precision:.4f}\")\n",
    "print(f\"Recall: {recall:.4f}\")"
   ]
  },
  {
   "cell_type": "code",
   "execution_count": 22,
   "id": "c0fe32ca-0300-4851-ac88-aea3796c986c",
   "metadata": {},
   "outputs": [
    {
     "name": "stdout",
     "output_type": "stream",
     "text": [
      "True Negatives (TN): 284173\n",
      "False Positives (FP): 142\n",
      "False Negatives (FN): 387\n",
      "True Positives (TP): 105\n"
     ]
    },
    {
     "data": {
      "image/png": "[encoded data removed]",
      "text/plain": [
       "<Figure size 400x400 with 2 Axes>"
      ]
     },
     "metadata": {},
     "output_type": "display_data"
    }
   ],
   "source": [
    "#Evaluate the Model\n",
    "from sklearn.metrics import confusion_matrix\n",
    "import seaborn as sns\n",
    "import matplotlib.pyplot as plt\n",
    "\n",
    "# Confusion matrix\n",
    "conf_matrix = confusion_matrix(error_df.True_class, error_df.predicted_class)\n",
    "\n",
    "# Extract TN, FP, FN, TP\n",
    "TN, FP, FN, TP = conf_matrix.ravel()\n",
    "\n",
    "# Print the values\n",
    "print(\"True Negatives (TN):\", TN)\n",
    "print(\"False Positives (FP):\", FP)\n",
    "print(\"False Negatives (FN):\", FN)\n",
    "print(\"True Positives (TP):\", TP)\n",
    "\n",
    "# Plotting the confusion matrix\n",
    "plt.figure(figsize=(4, 4))\n",
    "sns.heatmap(conf_matrix, annot=True, fmt=\"d\", xticklabels=[\"Normal\", \"Fraud\"], yticklabels=[\"Normal\", \"Fraud\"])\n",
    "plt.title(\"Confusion Matrix\")\n",
    "plt.ylabel(\"True Class\")\n",
    "plt.xlabel(\"Predicted Class\")\n",
    "plt.show()\n"
   ]
  },
  {
   "cell_type": "code",
   "execution_count": 28,
   "id": "a2e93719-a450-42e7-92e7-98531635e3be",
   "metadata": {},
   "outputs": [],
   "source": [
    "# Also, check for code on the official mail\n",
    "\n",
    "#Steps to Implement Anomaly Detection\n",
    "#Load and Explore the Data: Load the dataset and check for missing values and the class distribution.\n",
    "#Preprocess the Data: Normalize features and split the dataset into training and testing sets.\n",
    "#Define the Autoencoder Model: Build an Autoencoder model using Keras.\n",
    "#Train the Model: Train the Autoencoder on normal (non-fraudulent) transactions.\n",
    "#Calculate Reconstruction Errors: Calculate the reconstruction error for each transaction in the test set.\n",
    "#Set a Threshold and Detect Anomalies: Set a threshold to classify transactions as normal or fraudulent based on reconstruction error.\n",
    "#Evaluate the Model: Use a confusion matrix to evaluate the results."
   ]
  },
  {
   "cell_type": "code",
   "execution_count": 29,
   "id": "c7ac0592-9dc0-41ba-9508-f5a535d6fb8f",
   "metadata": {},
   "outputs": [],
   "source": [
    "#True Negatives (TN): (correctly predicted normal transactions)\n",
    "#False Positives (FP): (incorrectly predicted as fraud)\n",
    "#False Negatives (FN): (incorrectly predicted as normal)\n",
    "#True Positives (TP): (correctly predicted fraud)"
   ]
  },
  {
   "cell_type": "code",
   "execution_count": null,
   "id": "b0f52750-ce0a-4458-8900-f534dcbfd637",
   "metadata": {},
   "outputs": [],
   "source": []
  }
 ],
 "metadata": {
  "kernelspec": {
   "display_name": "Python 3 (ipykernel)",
   "language": "python",
   "name": "python3"
  },
  "language_info": {
   "codemirror_mode": {
    "name": "ipython",
    "version": 3
   },
   "file_extension": ".py",
   "mimetype": "text/x-python",
   "name": "python",
   "nbconvert_exporter": "python",
   "pygments_lexer": "ipython3",
   "version": "3.11.9"
  }
 },
 "nbformat": 4,
 "nbformat_minor": 5
}
